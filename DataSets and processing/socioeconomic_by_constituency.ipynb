{
 "cells": [
  {
   "cell_type": "code",
   "execution_count": 8,
   "metadata": {},
   "outputs": [
    {
     "name": "stdout",
     "output_type": "stream",
     "text": [
      "                        Mean  Standard Deviation\n",
      "Class                                           \n",
      "Professional_Perc  38.906691            8.338382\n",
      "Intermediate_Perc  26.200713            2.678340\n",
      "Manual_Perc        34.892597            8.544008\n"
     ]
    }
   ],
   "source": [
    "import pandas as pd\n",
    "import csv\n",
    "\n",
    "csv_filepath = \"constituency_socioeconomic_backgrounds.csv\"\n",
    "data_list = []\n",
    "\n",
    "# read in data\n",
    "with open(csv_filepath, newline='', encoding='utf-8') as csvfile:\n",
    "    csv_reader = csv.reader(csvfile)\n",
    "    \n",
    "    for row in csv_reader:\n",
    "        new_row = [row[1], row[6], row[7]]\n",
    "        data_list.append(new_row)\n",
    "\n",
    "data_list.remove(data_list[0])\n",
    "\n",
    "\n",
    "# specifying column names\n",
    "df = pd.DataFrame(data_list, columns=['Constituency', 'Class', 'Count'])\n",
    "df['Count'] = pd.to_numeric(df['Count'], errors='coerce')\n",
    "\n",
    "#print (df[:10])\n",
    "\n",
    "# this organises the dataframe where each class is a collumn\n",
    "grouped_df = df.groupby(['Constituency', 'Class']).sum().reset_index()\n",
    "pivot_df = grouped_df.pivot(index='Constituency', columns='Class', values='Count')\n",
    "\n",
    "#print (pivot_df[:10])\n",
    "\n",
    "class_rename_dict = {\n",
    "    'Managerial, administrative and professional occupations': 'Professional',\n",
    "    'Intermediate occupations': 'Intermediate',\n",
    "    'Routine and manual occupations': 'Manual',  \n",
    "}\n",
    "\n",
    "pivot_df = pivot_df.rename(columns=class_rename_dict)\n",
    "\n",
    "pivot_df = pivot_df.reset_index()\n",
    "\n",
    "# this calculates the total relevant population for each constituency\n",
    "pivot_df[\"Total_Count\"] = pivot_df[\"Professional\"] + pivot_df[\"Intermediate\"] + pivot_df[\"Manual\"]\n",
    "\n",
    "# this takes class percentages and puts them each in a seperate column with _perc added to the column title\n",
    "perc_list = []\n",
    "for class_short in class_rename_dict.values():\n",
    "    perc_column = f\"{class_short}_Perc\"\n",
    "    pivot_df[perc_column] = (pivot_df[class_short] / pivot_df[\"Total_Count\"]) * 100\n",
    "    perc_list.append(perc_column)\n",
    "\n",
    "#print (perc_list)\n",
    "\n",
    "# this then just takes the mean and standard deviation of each perc column and puts them in a seperate dataframe\n",
    "mean_df = pivot_df[perc_list].mean()\n",
    "std_df = pivot_df[perc_list].std()\n",
    "stats_df = pd.DataFrame({'Mean': mean_df, 'Standard Deviation': std_df})\n",
    "\n",
    "print(stats_df)\n",
    "\n",
    "\n",
    "\n",
    "\n",
    "\n",
    "\n",
    "\n",
    "\n"
   ]
  }
 ],
 "metadata": {
  "kernelspec": {
   "display_name": "Python 3",
   "language": "python",
   "name": "python3"
  },
  "language_info": {
   "codemirror_mode": {
    "name": "ipython",
    "version": 3
   },
   "file_extension": ".py",
   "mimetype": "text/x-python",
   "name": "python",
   "nbconvert_exporter": "python",
   "pygments_lexer": "ipython3",
   "version": "3.12.0"
  }
 },
 "nbformat": 4,
 "nbformat_minor": 2
}
